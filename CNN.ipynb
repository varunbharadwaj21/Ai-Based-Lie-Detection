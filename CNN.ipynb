{
  "cells": [
    {
      "cell_type": "code",
      "execution_count": null,
      "metadata": {
        "colab": {
          "base_uri": "https://localhost:8080/"
        },
        "id": "G6x6u8-YgfYv",
        "outputId": "00785af2-f445-4d15-e528-76f06a332f77"
      },
      "outputs": [
        {
          "name": "stdout",
          "output_type": "stream",
          "text": [
            "✅ Cleaned CSV saved with 1433 clips to:\n",
            "/content/drive/MyDrive/DOLOS_Project/available_clips.csv\n"
          ]
        }
      ],
      "source": [
        "import os\n",
        "import pandas as pd\n",
        "\n",
        "# Define your clip folders\n",
        "truth_folder = '/content/drive/MyDrive/DOLOS_Project/clips/truth'\n",
        "deception_folder = '/content/drive/MyDrive/DOLOS_Project/clips/deception'\n",
        "\n",
        "# Collect all available clip filenames\n",
        "truth_files = [f.replace('.mp4', '') for f in os.listdir(truth_folder) if f.endswith('.mp4')]\n",
        "deception_files = [f.replace('.mp4', '') for f in os.listdir(deception_folder) if f.endswith('.mp4')]\n",
        "\n",
        "# Build dataframe\n",
        "data = []\n",
        "\n",
        "for f in truth_files:\n",
        "    data.append({'file_name': f, 'label': 'truth'})\n",
        "\n",
        "for f in deception_files:\n",
        "    data.append({'file_name': f, 'label': 'deception'})\n",
        "\n",
        "df_clean = pd.DataFrame(data)\n",
        "\n",
        "# Save new CSV\n",
        "output_path = '/content/drive/MyDrive/DOLOS_Project/available_clips.csv'\n",
        "df_clean.to_csv(output_path, index=False)\n",
        "\n",
        "print(f\"✅ Cleaned CSV saved with {len(df_clean)} clips to:\\n{output_path}\")\n"
      ]
    },
    {
      "cell_type": "code",
      "execution_count": null,
      "metadata": {
        "colab": {
          "base_uri": "https://localhost:8080/"
        },
        "id": "06RBEMtNizec",
        "outputId": "102e91fc-29a3-43c9-bef1-19ed397c96c0"
      },
      "outputs": [
        {
          "name": "stdout",
          "output_type": "stream",
          "text": [
            "✅ Loaded 1433 clips from split_clips.csv\n"
          ]
        },
        {
          "name": "stderr",
          "output_type": "stream",
          "text": [
            "100%|██████████| 1433/1433 [13:36<00:00,  1.75it/s]"
          ]
        },
        {
          "name": "stdout",
          "output_type": "stream",
          "text": [
            "\n",
            "🎉 All RGB frames extracted and organized by split and label!\n"
          ]
        },
        {
          "name": "stderr",
          "output_type": "stream",
          "text": [
            "\n"
          ]
        }
      ],
      "source": [
        "# 🚀 DOLOS RGB Frame Extractor using split_clips.csv\n",
        "\n",
        "import os\n",
        "import cv2\n",
        "import pandas as pd\n",
        "from pathlib import Path\n",
        "from tqdm import tqdm\n",
        "\n",
        "# ===============================\n",
        "# 📂 Define Paths\n",
        "# ===============================\n",
        "base_path = \"/content/drive/MyDrive/DOLOS_Project\"\n",
        "clips_path = os.path.join(base_path, \"clips\")\n",
        "frames_base_path = os.path.join(base_path, \"frames\")\n",
        "os.makedirs(frames_base_path, exist_ok=True)\n",
        "\n",
        "# ===============================\n",
        "# 📄 Load Clean Split CSV\n",
        "# ===============================\n",
        "split_df = pd.read_csv(os.path.join(base_path, \"/content/split_clips.csv\"))\n",
        "print(f\"✅ Loaded {len(split_df)} clips from split_clips.csv\")\n",
        "\n",
        "# ===============================\n",
        "# 🖼️ Frame Extraction Function\n",
        "# ===============================\n",
        "def extract_frames(clip_path, output_folder, frame_rate=1):\n",
        "    os.makedirs(output_folder, exist_ok=True)\n",
        "    vidcap = cv2.VideoCapture(clip_path)\n",
        "    fps = vidcap.get(cv2.CAP_PROP_FPS)\n",
        "    interval = int(fps // frame_rate) if fps >= frame_rate else 1\n",
        "    count, frame_num = 0, 0\n",
        "\n",
        "    while True:\n",
        "        success, frame = vidcap.read()\n",
        "        if not success:\n",
        "            break\n",
        "        if count % interval == 0:\n",
        "            frame_filename = os.path.join(output_folder, f\"frame_{frame_num:04d}.jpg\")\n",
        "            resized = cv2.resize(frame, (224, 224))\n",
        "            cv2.imwrite(frame_filename, resized)\n",
        "            frame_num += 1\n",
        "        count += 1\n",
        "    vidcap.release()\n",
        "\n",
        "# ===============================\n",
        "# 🔄 Extract Frames for Each Clip\n",
        "# ===============================\n",
        "\n",
        "for _, row in tqdm(split_df.iterrows(), total=len(split_df)):\n",
        "    file = row['file_name']\n",
        "    label = row['label'].lower()\n",
        "    split = row['split'].lower()\n",
        "\n",
        "    # Construct video path (clip already exists)\n",
        "    clip_folder = os.path.join(clips_path, label)\n",
        "    clip_path = os.path.join(clip_folder, f\"{file}.mp4\")\n",
        "\n",
        "    if not os.path.exists(clip_path):\n",
        "        print(f\"❌ Clip not found: {clip_path}\")\n",
        "        continue\n",
        "\n",
        "    # Output frame folder\n",
        "    out_folder = os.path.join(frames_base_path, split, label, file)\n",
        "    extract_frames(clip_path, out_folder)\n",
        "\n",
        "print(\"\\n🎉 All RGB frames extracted and organized by split and label!\")\n"
      ]
    },
    {
      "cell_type": "code",
      "execution_count": null,
      "metadata": {
        "colab": {
          "base_uri": "https://localhost:8080/"
        },
        "id": "JqsNTKIrnuAu",
        "outputId": "678eb137-1f31-4bd0-8267-4d6597eebc07"
      },
      "outputs": [
        {
          "name": "stdout",
          "output_type": "stream",
          "text": [
            "✅ Loaded 1433 clips from split_clips.csv\n"
          ]
        },
        {
          "name": "stderr",
          "output_type": "stream",
          "text": [
            "100%|██████████| 1433/1433 [05:02<00:00,  4.73it/s]"
          ]
        },
        {
          "name": "stdout",
          "output_type": "stream",
          "text": [
            "\n",
            "🎉 All audio files extracted and organized by split and label!\n"
          ]
        },
        {
          "name": "stderr",
          "output_type": "stream",
          "text": [
            "\n"
          ]
        }
      ],
      "source": [
        "# 🚀 DOLOS Audio Extractor from Video Clips (Organized by Train/Val/Test)\n",
        "\n",
        "import os\n",
        "import subprocess\n",
        "import pandas as pd\n",
        "from tqdm import tqdm\n",
        "\n",
        "# ===============================\n",
        "# 📂 Define Paths\n",
        "# ===============================\n",
        "base_path = \"/content/drive/MyDrive/DOLOS_Project\"\n",
        "clips_path = os.path.join(base_path, \"clips\")\n",
        "audio_base_path = os.path.join(base_path, \"audio\")\n",
        "os.makedirs(audio_base_path, exist_ok=True)\n",
        "\n",
        "# ===============================\n",
        "# 📄 Load Clean Split CSV\n",
        "# ===============================\n",
        "split_df = pd.read_csv(os.path.join(base_path, \"/content/split_clips.csv\"))\n",
        "print(f\"✅ Loaded {len(split_df)} clips from split_clips.csv\")\n",
        "\n",
        "# ===============================\n",
        "# 🎧 Audio Extraction Function\n",
        "# ===============================\n",
        "def extract_audio(clip_path, output_audio_path):\n",
        "    os.makedirs(os.path.dirname(output_audio_path), exist_ok=True)\n",
        "    cmd = [\n",
        "        'ffmpeg', '-y',\n",
        "        '-i', clip_path,\n",
        "        '-vn',              # no video\n",
        "        '-acodec', 'pcm_s16le',\n",
        "        '-ar', '16000',      # sample rate 16 kHz\n",
        "        '-ac', '1',          # mono audio\n",
        "        output_audio_path\n",
        "    ]\n",
        "    subprocess.run(cmd, stdout=subprocess.DEVNULL, stderr=subprocess.DEVNULL)\n",
        "\n",
        "# ===============================\n",
        "# 🔄 Extract Audio for Each Clip\n",
        "# ===============================\n",
        "\n",
        "for _, row in tqdm(split_df.iterrows(), total=len(split_df)):\n",
        "    file = row['file_name']\n",
        "    label = row['label'].lower()\n",
        "    split = row['split'].lower()\n",
        "\n",
        "    # Clip path (already exists)\n",
        "    clip_folder = os.path.join(clips_path, label)\n",
        "    clip_path = os.path.join(clip_folder, f\"{file}.mp4\")\n",
        "\n",
        "    if not os.path.exists(clip_path):\n",
        "        print(f\"❌ Clip not found: {clip_path}\")\n",
        "        continue\n",
        "\n",
        "    # Output audio path\n",
        "    audio_output = os.path.join(audio_base_path, split, label, f\"{file}.wav\")\n",
        "    extract_audio(clip_path, audio_output)\n",
        "\n",
        "print(\"\\n🎉 All audio files extracted and organized by split and label!\")"
      ]
    },
    {
      "cell_type": "code",
      "execution_count": null,
      "metadata": {
        "colab": {
          "base_uri": "https://localhost:8080/"
        },
        "id": "hb0CzfsUrPqu",
        "outputId": "49742de2-b06d-47cd-d689-99ba59661b36"
      },
      "outputs": [
        {
          "name": "stdout",
          "output_type": "stream",
          "text": [
            "Requirement already satisfied: librosa in /usr/local/lib/python3.11/dist-packages (0.11.0)\n",
            "Requirement already satisfied: matplotlib in /usr/local/lib/python3.11/dist-packages (3.10.0)\n",
            "Requirement already satisfied: audioread>=2.1.9 in /usr/local/lib/python3.11/dist-packages (from librosa) (3.0.1)\n",
            "Requirement already satisfied: numba>=0.51.0 in /usr/local/lib/python3.11/dist-packages (from librosa) (0.60.0)\n",
            "Requirement already satisfied: numpy>=1.22.3 in /usr/local/lib/python3.11/dist-packages (from librosa) (2.0.2)\n",
            "Requirement already satisfied: scipy>=1.6.0 in /usr/local/lib/python3.11/dist-packages (from librosa) (1.14.1)\n",
            "Requirement already satisfied: scikit-learn>=1.1.0 in /usr/local/lib/python3.11/dist-packages (from librosa) (1.6.1)\n",
            "Requirement already satisfied: joblib>=1.0 in /usr/local/lib/python3.11/dist-packages (from librosa) (1.4.2)\n",
            "Requirement already satisfied: decorator>=4.3.0 in /usr/local/lib/python3.11/dist-packages (from librosa) (4.4.2)\n",
            "Requirement already satisfied: soundfile>=0.12.1 in /usr/local/lib/python3.11/dist-packages (from librosa) (0.13.1)\n",
            "Requirement already satisfied: pooch>=1.1 in /usr/local/lib/python3.11/dist-packages (from librosa) (1.8.2)\n",
            "Requirement already satisfied: soxr>=0.3.2 in /usr/local/lib/python3.11/dist-packages (from librosa) (0.5.0.post1)\n",
            "Requirement already satisfied: typing_extensions>=4.1.1 in /usr/local/lib/python3.11/dist-packages (from librosa) (4.13.2)\n",
            "Requirement already satisfied: lazy_loader>=0.1 in /usr/local/lib/python3.11/dist-packages (from librosa) (0.4)\n",
            "Requirement already satisfied: msgpack>=1.0 in /usr/local/lib/python3.11/dist-packages (from librosa) (1.1.0)\n",
            "Requirement already satisfied: contourpy>=1.0.1 in /usr/local/lib/python3.11/dist-packages (from matplotlib) (1.3.2)\n",
            "Requirement already satisfied: cycler>=0.10 in /usr/local/lib/python3.11/dist-packages (from matplotlib) (0.12.1)\n",
            "Requirement already satisfied: fonttools>=4.22.0 in /usr/local/lib/python3.11/dist-packages (from matplotlib) (4.57.0)\n",
            "Requirement already satisfied: kiwisolver>=1.3.1 in /usr/local/lib/python3.11/dist-packages (from matplotlib) (1.4.8)\n",
            "Requirement already satisfied: packaging>=20.0 in /usr/local/lib/python3.11/dist-packages (from matplotlib) (24.2)\n",
            "Requirement already satisfied: pillow>=8 in /usr/local/lib/python3.11/dist-packages (from matplotlib) (11.1.0)\n",
            "Requirement already satisfied: pyparsing>=2.3.1 in /usr/local/lib/python3.11/dist-packages (from matplotlib) (3.2.3)\n",
            "Requirement already satisfied: python-dateutil>=2.7 in /usr/local/lib/python3.11/dist-packages (from matplotlib) (2.8.2)\n",
            "Requirement already satisfied: llvmlite<0.44,>=0.43.0dev0 in /usr/local/lib/python3.11/dist-packages (from numba>=0.51.0->librosa) (0.43.0)\n",
            "Requirement already satisfied: platformdirs>=2.5.0 in /usr/local/lib/python3.11/dist-packages (from pooch>=1.1->librosa) (4.3.7)\n",
            "Requirement already satisfied: requests>=2.19.0 in /usr/local/lib/python3.11/dist-packages (from pooch>=1.1->librosa) (2.32.3)\n",
            "Requirement already satisfied: six>=1.5 in /usr/local/lib/python3.11/dist-packages (from python-dateutil>=2.7->matplotlib) (1.17.0)\n",
            "Requirement already satisfied: threadpoolctl>=3.1.0 in /usr/local/lib/python3.11/dist-packages (from scikit-learn>=1.1.0->librosa) (3.6.0)\n",
            "Requirement already satisfied: cffi>=1.0 in /usr/local/lib/python3.11/dist-packages (from soundfile>=0.12.1->librosa) (1.17.1)\n",
            "Requirement already satisfied: pycparser in /usr/local/lib/python3.11/dist-packages (from cffi>=1.0->soundfile>=0.12.1->librosa) (2.22)\n",
            "Requirement already satisfied: charset-normalizer<4,>=2 in /usr/local/lib/python3.11/dist-packages (from requests>=2.19.0->pooch>=1.1->librosa) (3.4.1)\n",
            "Requirement already satisfied: idna<4,>=2.5 in /usr/local/lib/python3.11/dist-packages (from requests>=2.19.0->pooch>=1.1->librosa) (3.10)\n",
            "Requirement already satisfied: urllib3<3,>=1.21.1 in /usr/local/lib/python3.11/dist-packages (from requests>=2.19.0->pooch>=1.1->librosa) (2.3.0)\n",
            "Requirement already satisfied: certifi>=2017.4.17 in /usr/local/lib/python3.11/dist-packages (from requests>=2.19.0->pooch>=1.1->librosa) (2025.1.31)\n"
          ]
        }
      ],
      "source": [
        "!pip install librosa matplotlib"
      ]
    },
    {
      "cell_type": "code",
      "execution_count": null,
      "metadata": {
        "colab": {
          "base_uri": "https://localhost:8080/"
        },
        "id": "3ACcOAid1_sW",
        "outputId": "baef8b07-9289-4eb0-be1a-e78dacdbfb6c"
      },
      "outputs": [
        {
          "name": "stdout",
          "output_type": "stream",
          "text": [
            "Mounted at /content/drive\n"
          ]
        }
      ],
      "source": [
        "from google.colab import drive\n",
        "drive.mount('/content/drive')"
      ]
    },
    {
      "cell_type": "code",
      "execution_count": null,
      "metadata": {
        "colab": {
          "base_uri": "https://localhost:8080/",
          "height": 36
        },
        "id": "wg2Tl1SD2MLx",
        "outputId": "3928fa98-35a2-4e0c-bb76-ea05fff95292"
      },
      "outputs": [
        {
          "data": {
            "application/vnd.google.colaboratory.intrinsic+json": {
              "type": "string"
            },
            "text/plain": [
              "'/content/drive/MyDrive/DOLOS_Project/'"
            ]
          },
          "execution_count": 2,
          "metadata": {},
          "output_type": "execute_result"
        }
      ],
      "source": [
        "\"/content/drive/MyDrive/DOLOS_Project/\""
      ]
    },
    {
      "cell_type": "code",
      "execution_count": null,
      "metadata": {
        "colab": {
          "base_uri": "https://localhost:8080/"
        },
        "id": "BcDINt3N2vB8",
        "outputId": "ecfa3ef4-e313-436d-f100-27f303738439"
      },
      "outputs": [
        {
          "name": "stdout",
          "output_type": "stream",
          "text": [
            "✅ Loaded 1433 clips from split_clips.csv\n"
          ]
        },
        {
          "name": "stderr",
          "output_type": "stream",
          "text": [
            "100%|██████████| 1433/1433 [10:17<00:00,  2.32it/s]"
          ]
        },
        {
          "name": "stdout",
          "output_type": "stream",
          "text": [
            "\n",
            "🎉 All spectrograms generated and organized by split and label!\n"
          ]
        },
        {
          "name": "stderr",
          "output_type": "stream",
          "text": [
            "\n"
          ]
        }
      ],
      "source": [
        "# 🚀 DOLOS Spectrogram Generator from Audio Files\n",
        "\n",
        "import os\n",
        "import librosa\n",
        "import librosa.display\n",
        "import matplotlib.pyplot as plt\n",
        "import numpy as np\n",
        "import pandas as pd\n",
        "from tqdm import tqdm\n",
        "\n",
        "# ===============================\n",
        "# 📂 Define Paths\n",
        "# ===============================\n",
        "base_path = \"/content/drive/MyDrive/DOLOS_Project\"\n",
        "audio_path = os.path.join(base_path, \"audio\")\n",
        "spec_base_path = os.path.join(base_path, \"spectrograms\")\n",
        "os.makedirs(spec_base_path, exist_ok=True)\n",
        "\n",
        "# ===============================\n",
        "# 📄 Load Clean Split CSV\n",
        "# ===============================\n",
        "split_df = pd.read_csv(os.path.join(base_path, \"/content/split_clips.csv\"))\n",
        "print(f\"✅ Loaded {len(split_df)} clips from split_clips.csv\")\n",
        "\n",
        "# ===============================\n",
        "# 🎨 Spectrogram Creation Function\n",
        "# ===============================\n",
        "def create_spectrogram(wav_path, output_image_path):\n",
        "    os.makedirs(os.path.dirname(output_image_path), exist_ok=True)\n",
        "    y, sr = librosa.load(wav_path, sr=16000)\n",
        "    S = librosa.feature.melspectrogram(y=y, sr=sr, n_mels=128)\n",
        "    S_dB = librosa.power_to_db(S, ref=np.max)\n",
        "\n",
        "    plt.figure(figsize=(2.24, 2.24))  # roughly 224x224 when saved\n",
        "    librosa.display.specshow(S_dB, sr=sr, cmap='viridis')\n",
        "    plt.axis('off')\n",
        "    plt.tight_layout(pad=0)\n",
        "    plt.savefig(output_image_path, bbox_inches='tight', pad_inches=0)\n",
        "    plt.close()\n",
        "\n",
        "# ===============================\n",
        "# 🔄 Generate Spectrograms for Each Clip\n",
        "# ===============================\n",
        "for _, row in tqdm(split_df.iterrows(), total=len(split_df)):\n",
        "    file = row['file_name']\n",
        "    label = row['label'].lower()\n",
        "    split = row['split'].lower()\n",
        "\n",
        "    # Path to .wav\n",
        "    wav_folder = os.path.join(audio_path, split, label)\n",
        "    wav_path = os.path.join(wav_folder, f\"{file}.wav\")\n",
        "\n",
        "    if not os.path.exists(wav_path):\n",
        "        print(f\"❌ Missing WAV: {wav_path}\")\n",
        "        continue\n",
        "\n",
        "    # Output .png path\n",
        "    spec_output = os.path.join(spec_base_path, split, label, f\"{file}.png\")\n",
        "    create_spectrogram(wav_path, spec_output)\n",
        "\n",
        "print(\"\\n🎉 All spectrograms generated and organized by split and label!\")\n"
      ]
    },
    {
      "cell_type": "code",
      "execution_count": null,
      "metadata": {
        "colab": {
          "base_uri": "https://localhost:8080/"
        },
        "id": "482citLp2vll",
        "outputId": "a21aa43e-ec0d-4804-b557-d2d445a4050a"
      },
      "outputs": [
        {
          "name": "stderr",
          "output_type": "stream",
          "text": [
            "/usr/local/lib/python3.11/dist-packages/torchvision/models/_utils.py:208: UserWarning: The parameter 'pretrained' is deprecated since 0.13 and may be removed in the future, please use 'weights' instead.\n",
            "  warnings.warn(\n",
            "/usr/local/lib/python3.11/dist-packages/torchvision/models/_utils.py:223: UserWarning: Arguments other than a weight enum or `None` for 'weights' are deprecated since 0.13 and may be removed in the future. The current behavior is equivalent to passing `weights=ResNet18_Weights.IMAGENET1K_V1`. You can also use `weights=ResNet18_Weights.DEFAULT` to get the most up-to-date weights.\n",
            "  warnings.warn(msg)\n",
            "Downloading: \"https://download.pytorch.org/models/resnet18-f37072fd.pth\" to /root/.cache/torch/hub/checkpoints/resnet18-f37072fd.pth\n",
            "100%|██████████| 44.7M/44.7M [00:00<00:00, 89.1MB/s]\n",
            "100%|██████████| 32/32 [08:40<00:00, 16.27s/it]\n"
          ]
        },
        {
          "name": "stdout",
          "output_type": "stream",
          "text": [
            "\n",
            "Epoch 1/10:\n",
            "Train Loss: 0.7265, Train Acc: 0.5653\n",
            "Val   Loss: 0.6751, Val   Acc: 0.5907\n"
          ]
        },
        {
          "name": "stderr",
          "output_type": "stream",
          "text": [
            "100%|██████████| 32/32 [04:49<00:00,  9.05s/it]\n"
          ]
        },
        {
          "name": "stdout",
          "output_type": "stream",
          "text": [
            "\n",
            "Epoch 2/10:\n",
            "Train Loss: 0.3629, Train Acc: 0.8784\n",
            "Val   Loss: 0.6950, Val   Acc: 0.6047\n"
          ]
        },
        {
          "name": "stderr",
          "output_type": "stream",
          "text": [
            "100%|██████████| 32/32 [04:47<00:00,  9.00s/it]\n"
          ]
        },
        {
          "name": "stdout",
          "output_type": "stream",
          "text": [
            "\n",
            "Epoch 3/10:\n",
            "Train Loss: 0.1401, Train Acc: 0.9671\n",
            "Val   Loss: 0.7688, Val   Acc: 0.6512\n"
          ]
        },
        {
          "name": "stderr",
          "output_type": "stream",
          "text": [
            "100%|██████████| 32/32 [04:47<00:00,  8.99s/it]\n"
          ]
        },
        {
          "name": "stdout",
          "output_type": "stream",
          "text": [
            "\n",
            "Epoch 4/10:\n",
            "Train Loss: 0.0594, Train Acc: 0.9900\n",
            "Val   Loss: 0.9084, Val   Acc: 0.5953\n"
          ]
        },
        {
          "name": "stderr",
          "output_type": "stream",
          "text": [
            "100%|██████████| 32/32 [04:42<00:00,  8.82s/it]\n"
          ]
        },
        {
          "name": "stdout",
          "output_type": "stream",
          "text": [
            "\n",
            "Epoch 5/10:\n",
            "Train Loss: 0.0329, Train Acc: 0.9980\n",
            "Val   Loss: 0.8691, Val   Acc: 0.6372\n"
          ]
        },
        {
          "name": "stderr",
          "output_type": "stream",
          "text": [
            "100%|██████████| 32/32 [04:45<00:00,  8.91s/it]\n"
          ]
        },
        {
          "name": "stdout",
          "output_type": "stream",
          "text": [
            "\n",
            "Epoch 6/10:\n",
            "Train Loss: 0.0297, Train Acc: 0.9940\n",
            "Val   Loss: 0.9576, Val   Acc: 0.6465\n"
          ]
        },
        {
          "name": "stderr",
          "output_type": "stream",
          "text": [
            "100%|██████████| 32/32 [04:44<00:00,  8.90s/it]\n"
          ]
        },
        {
          "name": "stdout",
          "output_type": "stream",
          "text": [
            "\n",
            "Epoch 7/10:\n",
            "Train Loss: 0.0382, Train Acc: 0.9920\n",
            "Val   Loss: 0.9614, Val   Acc: 0.5953\n"
          ]
        },
        {
          "name": "stderr",
          "output_type": "stream",
          "text": [
            "100%|██████████| 32/32 [04:43<00:00,  8.87s/it]\n"
          ]
        },
        {
          "name": "stdout",
          "output_type": "stream",
          "text": [
            "\n",
            "Epoch 8/10:\n",
            "Train Loss: 0.0315, Train Acc: 0.9930\n",
            "Val   Loss: 1.0523, Val   Acc: 0.6186\n"
          ]
        },
        {
          "name": "stderr",
          "output_type": "stream",
          "text": [
            "100%|██████████| 32/32 [04:43<00:00,  8.85s/it]\n"
          ]
        },
        {
          "name": "stdout",
          "output_type": "stream",
          "text": [
            "\n",
            "Epoch 9/10:\n",
            "Train Loss: 0.0226, Train Acc: 0.9940\n",
            "Val   Loss: 1.2077, Val   Acc: 0.5907\n"
          ]
        },
        {
          "name": "stderr",
          "output_type": "stream",
          "text": [
            "100%|██████████| 32/32 [04:45<00:00,  8.92s/it]\n"
          ]
        },
        {
          "name": "stdout",
          "output_type": "stream",
          "text": [
            "\n",
            "Epoch 10/10:\n",
            "Train Loss: 0.0243, Train Acc: 0.9930\n",
            "Val   Loss: 1.0263, Val   Acc: 0.6512\n",
            "\n",
            " Training complete. Ready for testing or fusion model.\n"
          ]
        }
      ],
      "source": [
        "# 🧠 Vision Model: CNN Classifier on RGB Frames (DOLOS Project)\n",
        "\n",
        "import os\n",
        "import torch\n",
        "import torch.nn as nn\n",
        "import torch.optim as optim\n",
        "from torch.utils.data import Dataset, DataLoader\n",
        "from torchvision import transforms, models\n",
        "from PIL import Image\n",
        "import pandas as pd\n",
        "from tqdm import tqdm\n",
        "\n",
        "# ===============================\n",
        "# 📂 Paths and Parameters\n",
        "# ===============================\n",
        "base_path = \"/content/drive/MyDrive/DOLOS_Project\"\n",
        "frames_path = os.path.join(base_path, \"frames\")\n",
        "split_df = pd.read_csv(os.path.join(base_path, \"/content/split_clips.csv\"))\n",
        "device = torch.device(\"cuda\" if torch.cuda.is_available() else \"cpu\")\n",
        "\n",
        "IMG_SIZE = 224\n",
        "BATCH_SIZE = 32\n",
        "EPOCHS = 10\n",
        "\n",
        "# ===============================\n",
        "# 📦 Custom Dataset for Frame Folder (1 frame per clip)\n",
        "# ===============================\n",
        "class FrameDataset(Dataset):\n",
        "    def __init__(self, df, split, transform=None):\n",
        "        self.samples = df[df['split'] == split].reset_index(drop=True)\n",
        "        self.split = split\n",
        "        self.transform = transform\n",
        "\n",
        "    def __len__(self):\n",
        "        return len(self.samples)\n",
        "\n",
        "    def __getitem__(self, idx):\n",
        "        row = self.samples.iloc[idx]\n",
        "        file = row['file_name']\n",
        "        label = 0 if row['label'] == 'truth' else 1\n",
        "        frame_path = os.path.join(frames_path, self.split, row['label'], file, \"frame_0000.jpg\")\n",
        "        image = Image.open(frame_path).convert('RGB')\n",
        "        if self.transform:\n",
        "            image = self.transform(image)\n",
        "        return image, label\n",
        "\n",
        "# ===============================\n",
        "# 🔄 Transforms and DataLoaders\n",
        "# ===============================\n",
        "transform = transforms.Compose([\n",
        "    transforms.Resize((IMG_SIZE, IMG_SIZE)),\n",
        "    transforms.ToTensor(),\n",
        "    transforms.Normalize([0.485, 0.456, 0.406], [0.229, 0.224, 0.225])\n",
        "])\n",
        "\n",
        "train_ds = FrameDataset(split_df, split='train', transform=transform)\n",
        "val_ds = FrameDataset(split_df, split='val', transform=transform)\n",
        "train_dl = DataLoader(train_ds, batch_size=BATCH_SIZE, shuffle=True)\n",
        "val_dl = DataLoader(val_ds, batch_size=BATCH_SIZE)\n",
        "\n",
        "# ===============================\n",
        "# 🧠 CNN Model (ResNet18)\n",
        "# ===============================\n",
        "model = models.resnet18(pretrained=True)\n",
        "model.fc = nn.Linear(model.fc.in_features, 2)  # Binary classification\n",
        "model = model.to(device)\n",
        "\n",
        "criterion = nn.CrossEntropyLoss()\n",
        "optimizer = optim.Adam(model.parameters(), lr=1e-4)\n",
        "\n",
        "# ===============================\n",
        "# 🚂 Training Loop\n",
        "# ===============================\n",
        "def train_epoch():\n",
        "    model.train()\n",
        "    running_loss, correct = 0.0, 0\n",
        "    for inputs, labels in tqdm(train_dl):\n",
        "        inputs, labels = inputs.to(device), labels.to(device)\n",
        "        optimizer.zero_grad()\n",
        "        outputs = model(inputs)\n",
        "        loss = criterion(outputs, labels)\n",
        "        loss.backward()\n",
        "        optimizer.step()\n",
        "        running_loss += loss.item() * inputs.size(0)\n",
        "        correct += (outputs.argmax(1) == labels).sum().item()\n",
        "    return running_loss / len(train_dl.dataset), correct / len(train_dl.dataset)\n",
        "\n",
        "# ===============================\n",
        "# 🧪 Validation Loop\n",
        "# ===============================\n",
        "def validate():\n",
        "    model.eval()\n",
        "    val_loss, correct = 0.0, 0\n",
        "    with torch.no_grad():\n",
        "        for inputs, labels in val_dl:\n",
        "            inputs, labels = inputs.to(device), labels.to(device)\n",
        "            outputs = model(inputs)\n",
        "            loss = criterion(outputs, labels)\n",
        "            val_loss += loss.item() * inputs.size(0)\n",
        "            correct += (outputs.argmax(1) == labels).sum().item()\n",
        "    return val_loss / len(val_dl.dataset), correct / len(val_dl.dataset)\n",
        "\n",
        "# ===============================\n",
        "# 🔁 Training\n",
        "# ===============================\n",
        "for epoch in range(EPOCHS):\n",
        "    train_loss, train_acc = train_epoch()\n",
        "    val_loss, val_acc = validate()\n",
        "    print(f\"\\nEpoch {epoch+1}/{EPOCHS}:\")\n",
        "    print(f\"Train Loss: {train_loss:.4f}, Train Acc: {train_acc:.4f}\")\n",
        "    print(f\"Val   Loss: {val_loss:.4f}, Val   Acc: {val_acc:.4f}\")\n",
        "\n",
        "print(\"\\n Training complete. Ready for testing or fusion model.\")\n"
      ]
    },
    {
      "cell_type": "code",
      "execution_count": null,
      "metadata": {
        "colab": {
          "base_uri": "https://localhost:8080/"
        },
        "id": "VkZoJeEf7vOi",
        "outputId": "5fc92d8c-9685-45d4-8b7a-fec536e77027"
      },
      "outputs": [
        {
          "name": "stderr",
          "output_type": "stream",
          "text": [
            "/usr/local/lib/python3.11/dist-packages/torchvision/models/_utils.py:208: UserWarning: The parameter 'pretrained' is deprecated since 0.13 and may be removed in the future, please use 'weights' instead.\n",
            "  warnings.warn(\n",
            "/usr/local/lib/python3.11/dist-packages/torchvision/models/_utils.py:223: UserWarning: Arguments other than a weight enum or `None` for 'weights' are deprecated since 0.13 and may be removed in the future. The current behavior is equivalent to passing `weights=ResNet18_Weights.IMAGENET1K_V1`. You can also use `weights=ResNet18_Weights.DEFAULT` to get the most up-to-date weights.\n",
            "  warnings.warn(msg)\n",
            "100%|██████████| 32/32 [04:45<00:00,  8.92s/it]\n"
          ]
        },
        {
          "name": "stdout",
          "output_type": "stream",
          "text": [
            "\n",
            "Epoch 1/10:\n",
            "Train Loss: 0.7140, Train Acc: 0.5563\n",
            "Val   Loss: 0.7107, Val   Acc: 0.5535\n"
          ]
        },
        {
          "name": "stderr",
          "output_type": "stream",
          "text": [
            "100%|██████████| 32/32 [04:43<00:00,  8.87s/it]\n"
          ]
        },
        {
          "name": "stdout",
          "output_type": "stream",
          "text": [
            "\n",
            "Epoch 2/10:\n",
            "Train Loss: 0.2551, Train Acc: 0.9521\n",
            "Val   Loss: 0.7975, Val   Acc: 0.6093\n"
          ]
        },
        {
          "name": "stderr",
          "output_type": "stream",
          "text": [
            "100%|██████████| 32/32 [04:42<00:00,  8.84s/it]\n"
          ]
        },
        {
          "name": "stdout",
          "output_type": "stream",
          "text": [
            "\n",
            "Epoch 3/10:\n",
            "Train Loss: 0.0580, Train Acc: 0.9980\n",
            "Val   Loss: 1.0377, Val   Acc: 0.5628\n"
          ]
        },
        {
          "name": "stderr",
          "output_type": "stream",
          "text": [
            "100%|██████████| 32/32 [04:41<00:00,  8.81s/it]\n"
          ]
        },
        {
          "name": "stdout",
          "output_type": "stream",
          "text": [
            "\n",
            "Epoch 4/10:\n",
            "Train Loss: 0.0166, Train Acc: 1.0000\n",
            "Val   Loss: 1.0006, Val   Acc: 0.5907\n"
          ]
        },
        {
          "name": "stderr",
          "output_type": "stream",
          "text": [
            "100%|██████████| 32/32 [04:41<00:00,  8.81s/it]\n"
          ]
        },
        {
          "name": "stdout",
          "output_type": "stream",
          "text": [
            "\n",
            "Epoch 5/10:\n",
            "Train Loss: 0.0072, Train Acc: 1.0000\n",
            "Val   Loss: 1.0745, Val   Acc: 0.5349\n"
          ]
        },
        {
          "name": "stderr",
          "output_type": "stream",
          "text": [
            "100%|██████████| 32/32 [04:40<00:00,  8.77s/it]\n"
          ]
        },
        {
          "name": "stdout",
          "output_type": "stream",
          "text": [
            "\n",
            "Epoch 6/10:\n",
            "Train Loss: 0.0054, Train Acc: 1.0000\n",
            "Val   Loss: 1.1427, Val   Acc: 0.5581\n"
          ]
        },
        {
          "name": "stderr",
          "output_type": "stream",
          "text": [
            "100%|██████████| 32/32 [04:39<00:00,  8.74s/it]\n"
          ]
        },
        {
          "name": "stdout",
          "output_type": "stream",
          "text": [
            "\n",
            "Epoch 7/10:\n",
            "Train Loss: 0.0049, Train Acc: 1.0000\n",
            "Val   Loss: 1.1281, Val   Acc: 0.5488\n"
          ]
        },
        {
          "name": "stderr",
          "output_type": "stream",
          "text": [
            "100%|██████████| 32/32 [04:39<00:00,  8.75s/it]\n"
          ]
        },
        {
          "name": "stdout",
          "output_type": "stream",
          "text": [
            "\n",
            "Epoch 8/10:\n",
            "Train Loss: 0.0031, Train Acc: 1.0000\n",
            "Val   Loss: 1.1786, Val   Acc: 0.5674\n"
          ]
        },
        {
          "name": "stderr",
          "output_type": "stream",
          "text": [
            "100%|██████████| 32/32 [04:40<00:00,  8.77s/it]\n"
          ]
        },
        {
          "name": "stdout",
          "output_type": "stream",
          "text": [
            "\n",
            "Epoch 9/10:\n",
            "Train Loss: 0.0018, Train Acc: 1.0000\n",
            "Val   Loss: 1.1942, Val   Acc: 0.5581\n"
          ]
        },
        {
          "name": "stderr",
          "output_type": "stream",
          "text": [
            "100%|██████████| 32/32 [04:41<00:00,  8.79s/it]\n"
          ]
        },
        {
          "name": "stdout",
          "output_type": "stream",
          "text": [
            "\n",
            "Epoch 10/10:\n",
            "Train Loss: 0.0014, Train Acc: 1.0000\n",
            "Val   Loss: 1.2142, Val   Acc: 0.5488\n",
            "\n",
            "✅ Training complete. Ready for testing or fusion model.\n"
          ]
        }
      ],
      "source": [
        "# 🧠 Audio Model: CNN Classifier on Spectrograms (DOLOS Project)\n",
        "\n",
        "import os\n",
        "import torch\n",
        "import torch.nn as nn\n",
        "import torch.optim as optim\n",
        "from torch.utils.data import Dataset, DataLoader\n",
        "from torchvision import transforms, models\n",
        "from PIL import Image\n",
        "import pandas as pd\n",
        "from tqdm import tqdm\n",
        "\n",
        "# ===============================\n",
        "# 📂 Paths and Parameters\n",
        "# ===============================\n",
        "base_path = \"/content/drive/MyDrive/DOLOS_Project\"\n",
        "specs_path = os.path.join(base_path, \"spectrograms\")\n",
        "split_df = pd.read_csv(os.path.join(base_path, \"split_clips.csv\"))\n",
        "device = torch.device(\"cuda\" if torch.cuda.is_available() else \"cpu\")\n",
        "\n",
        "IMG_SIZE = 224\n",
        "BATCH_SIZE = 32\n",
        "EPOCHS = 10\n",
        "\n",
        "# ===============================\n",
        "# 📦 Custom Dataset for Spectrogram Images\n",
        "# ===============================\n",
        "class SpectrogramDataset(Dataset):\n",
        "    def __init__(self, df, split, transform=None):\n",
        "        self.samples = df[df['split'] == split].reset_index(drop=True)\n",
        "        self.split = split\n",
        "        self.transform = transform\n",
        "\n",
        "    def __len__(self):\n",
        "        return len(self.samples)\n",
        "\n",
        "    def __getitem__(self, idx):\n",
        "        row = self.samples.iloc[idx]\n",
        "        file = row['file_name']\n",
        "        label = 0 if row['label'] == 'truth' else 1\n",
        "        spec_path = os.path.join(specs_path, self.split, row['label'], f\"{file}.png\")\n",
        "        image = Image.open(spec_path).convert('RGB')\n",
        "        if self.transform:\n",
        "            image = self.transform(image)\n",
        "        return image, label\n",
        "\n",
        "# ===============================\n",
        "# 🔄 Transforms and DataLoaders\n",
        "# ===============================\n",
        "transform = transforms.Compose([\n",
        "    transforms.Resize((IMG_SIZE, IMG_SIZE)),\n",
        "    transforms.ToTensor(),\n",
        "    transforms.Normalize([0.485, 0.456, 0.406], [0.229, 0.224, 0.225])\n",
        "])\n",
        "\n",
        "train_ds = SpectrogramDataset(split_df, split='train', transform=transform)\n",
        "val_ds = SpectrogramDataset(split_df, split='val', transform=transform)\n",
        "train_dl = DataLoader(train_ds, batch_size=BATCH_SIZE, shuffle=True)\n",
        "val_dl = DataLoader(val_ds, batch_size=BATCH_SIZE)\n",
        "\n",
        "# ===============================\n",
        "# 🧠 CNN Model (ResNet18)\n",
        "# ===============================\n",
        "model = models.resnet18(pretrained=True)\n",
        "model.fc = nn.Linear(model.fc.in_features, 2)  # Binary classification\n",
        "model = model.to(device)\n",
        "\n",
        "criterion = nn.CrossEntropyLoss()\n",
        "optimizer = optim.Adam(model.parameters(), lr=1e-4)\n",
        "\n",
        "# ===============================\n",
        "# 🚂 Training Loop\n",
        "# ===============================\n",
        "def train_epoch():\n",
        "    model.train()\n",
        "    running_loss, correct = 0.0, 0\n",
        "    for inputs, labels in tqdm(train_dl):\n",
        "        inputs, labels = inputs.to(device), labels.to(device)\n",
        "        optimizer.zero_grad()\n",
        "        outputs = model(inputs)\n",
        "        loss = criterion(outputs, labels)\n",
        "        loss.backward()\n",
        "        optimizer.step()\n",
        "        running_loss += loss.item() * inputs.size(0)\n",
        "        correct += (outputs.argmax(1) == labels).sum().item()\n",
        "    return running_loss / len(train_dl.dataset), correct / len(train_dl.dataset)\n",
        "\n",
        "# ===============================\n",
        "# 🧪 Validation Loop\n",
        "# ===============================\n",
        "def validate():\n",
        "    model.eval()\n",
        "    val_loss, correct = 0.0, 0\n",
        "    with torch.no_grad():\n",
        "        for inputs, labels in val_dl:\n",
        "            inputs, labels = inputs.to(device), labels.to(device)\n",
        "            outputs = model(inputs)\n",
        "            loss = criterion(outputs, labels)\n",
        "            val_loss += loss.item() * inputs.size(0)\n",
        "            correct += (outputs.argmax(1) == labels).sum().item()\n",
        "    return val_loss / len(val_dl.dataset), correct / len(val_dl.dataset)\n",
        "\n",
        "# ===============================\n",
        "# 🔁 Training\n",
        "# ===============================\n",
        "for epoch in range(EPOCHS):\n",
        "    train_loss, train_acc = train_epoch()\n",
        "    val_loss, val_acc = validate()\n",
        "    print(f\"\\nEpoch {epoch+1}/{EPOCHS}:\")\n",
        "    print(f\"Train Loss: {train_loss:.4f}, Train Acc: {train_acc:.4f}\")\n",
        "    print(f\"Val   Loss: {val_loss:.4f}, Val   Acc: {val_acc:.4f}\")\n",
        "\n",
        "print(\"\\n✅ Training complete. Ready for testing or fusion model.\")\n"
      ]
    },
    {
      "cell_type": "code",
      "execution_count": null,
      "metadata": {
        "colab": {
          "base_uri": "https://localhost:8080/"
        },
        "id": "xRHxRNn3Jn6P",
        "outputId": "9c786e23-df1f-45dc-8e2a-54182da7f1fd"
      },
      "outputs": [
        {
          "name": "stderr",
          "output_type": "stream",
          "text": [
            "/usr/local/lib/python3.11/dist-packages/torchvision/models/_utils.py:208: UserWarning: The parameter 'pretrained' is deprecated since 0.13 and may be removed in the future, please use 'weights' instead.\n",
            "  warnings.warn(\n",
            "/usr/local/lib/python3.11/dist-packages/torchvision/models/_utils.py:223: UserWarning: Arguments other than a weight enum or `None` for 'weights' are deprecated since 0.13 and may be removed in the future. The current behavior is equivalent to passing `weights=ResNet18_Weights.IMAGENET1K_V1`. You can also use `weights=ResNet18_Weights.DEFAULT` to get the most up-to-date weights.\n",
            "  warnings.warn(msg)\n",
            "Downloading: \"https://download.pytorch.org/models/resnet18-f37072fd.pth\" to /root/.cache/torch/hub/checkpoints/resnet18-f37072fd.pth\n",
            "100%|██████████| 44.7M/44.7M [00:00<00:00, 201MB/s]\n",
            "100%|██████████| 32/32 [24:22<00:00, 45.72s/it]\n"
          ]
        },
        {
          "name": "stdout",
          "output_type": "stream",
          "text": [
            "\n",
            "Epoch 1/10:\n",
            "Train Loss: 0.6906, Train Acc: 0.5583\n",
            "Val   Loss: 0.6493, Val   Acc: 0.6093\n"
          ]
        },
        {
          "name": "stderr",
          "output_type": "stream",
          "text": [
            "100%|██████████| 32/32 [00:15<00:00,  2.08it/s]\n"
          ]
        },
        {
          "name": "stdout",
          "output_type": "stream",
          "text": [
            "\n",
            "Epoch 2/10:\n",
            "Train Loss: 0.3271, Train Acc: 0.9272\n",
            "Val   Loss: 0.6771, Val   Acc: 0.6372\n"
          ]
        },
        {
          "name": "stderr",
          "output_type": "stream",
          "text": [
            "100%|██████████| 32/32 [00:15<00:00,  2.12it/s]\n"
          ]
        },
        {
          "name": "stdout",
          "output_type": "stream",
          "text": [
            "\n",
            "Epoch 3/10:\n",
            "Train Loss: 0.0553, Train Acc: 0.9930\n",
            "Val   Loss: 0.8048, Val   Acc: 0.6093\n"
          ]
        },
        {
          "name": "stderr",
          "output_type": "stream",
          "text": [
            "100%|██████████| 32/32 [00:15<00:00,  2.08it/s]\n"
          ]
        },
        {
          "name": "stdout",
          "output_type": "stream",
          "text": [
            "\n",
            "Epoch 4/10:\n",
            "Train Loss: 0.0189, Train Acc: 0.9980\n",
            "Val   Loss: 0.9990, Val   Acc: 0.6233\n"
          ]
        },
        {
          "name": "stderr",
          "output_type": "stream",
          "text": [
            "100%|██████████| 32/32 [00:15<00:00,  2.04it/s]\n"
          ]
        },
        {
          "name": "stdout",
          "output_type": "stream",
          "text": [
            "\n",
            "Epoch 5/10:\n",
            "Train Loss: 0.0145, Train Acc: 0.9970\n",
            "Val   Loss: 1.0877, Val   Acc: 0.6140\n"
          ]
        },
        {
          "name": "stderr",
          "output_type": "stream",
          "text": [
            "100%|██████████| 32/32 [00:15<00:00,  2.11it/s]\n"
          ]
        },
        {
          "name": "stdout",
          "output_type": "stream",
          "text": [
            "\n",
            "Epoch 6/10:\n",
            "Train Loss: 0.0684, Train Acc: 0.9791\n",
            "Val   Loss: 1.3109, Val   Acc: 0.5767\n"
          ]
        },
        {
          "name": "stderr",
          "output_type": "stream",
          "text": [
            "100%|██████████| 32/32 [00:15<00:00,  2.11it/s]\n"
          ]
        },
        {
          "name": "stdout",
          "output_type": "stream",
          "text": [
            "\n",
            "Epoch 7/10:\n",
            "Train Loss: 0.0681, Train Acc: 0.9791\n",
            "Val   Loss: 1.1980, Val   Acc: 0.6372\n"
          ]
        },
        {
          "name": "stderr",
          "output_type": "stream",
          "text": [
            "100%|██████████| 32/32 [00:15<00:00,  2.06it/s]\n"
          ]
        },
        {
          "name": "stdout",
          "output_type": "stream",
          "text": [
            "\n",
            "Epoch 8/10:\n",
            "Train Loss: 0.1421, Train Acc: 0.9432\n",
            "Val   Loss: 1.5822, Val   Acc: 0.5814\n"
          ]
        },
        {
          "name": "stderr",
          "output_type": "stream",
          "text": [
            "100%|██████████| 32/32 [00:15<00:00,  2.12it/s]\n"
          ]
        },
        {
          "name": "stdout",
          "output_type": "stream",
          "text": [
            "\n",
            "Epoch 9/10:\n",
            "Train Loss: 0.1136, Train Acc: 0.9631\n",
            "Val   Loss: 1.2125, Val   Acc: 0.6186\n"
          ]
        },
        {
          "name": "stderr",
          "output_type": "stream",
          "text": [
            "100%|██████████| 32/32 [00:15<00:00,  2.13it/s]\n"
          ]
        },
        {
          "name": "stdout",
          "output_type": "stream",
          "text": [
            "\n",
            "Epoch 10/10:\n",
            "Train Loss: 0.0604, Train Acc: 0.9791\n",
            "Val   Loss: 1.0499, Val   Acc: 0.6326\n",
            "\n",
            "✅ Training complete. Multimodal fusion model ready!\n"
          ]
        }
      ],
      "source": [
        "# 🔥 Multimodal Fusion Model: Combine Vision (Frames) + Audio (Spectrograms)\n",
        "\n",
        "import os\n",
        "import torch\n",
        "import torch.nn as nn\n",
        "import torch.optim as optim\n",
        "from torch.utils.data import Dataset, DataLoader\n",
        "from torchvision import transforms, models\n",
        "from PIL import Image\n",
        "import pandas as pd\n",
        "from tqdm import tqdm\n",
        "\n",
        "# ===============================\n",
        "# 📂 Paths and Parameters\n",
        "# ===============================\n",
        "base_path = \"/content/drive/MyDrive/DOLOS_Project\"\n",
        "frames_path = os.path.join(base_path, \"frames\")\n",
        "specs_path = os.path.join(base_path, \"spectrograms\")\n",
        "split_df = pd.read_csv(os.path.join(base_path, \"split_clips.csv\"))\n",
        "device = torch.device(\"cuda\" if torch.cuda.is_available() else \"cpu\")\n",
        "\n",
        "IMG_SIZE = 224\n",
        "BATCH_SIZE = 32\n",
        "EPOCHS = 10\n",
        "\n",
        "# ===============================\n",
        "# 📦 Custom Dataset for Fusion\n",
        "# ===============================\n",
        "class FusionDataset(Dataset):\n",
        "    def __init__(self, df, split, transform=None):\n",
        "        self.samples = df[df['split'] == split].reset_index(drop=True)\n",
        "        self.split = split\n",
        "        self.transform = transform\n",
        "\n",
        "    def __len__(self):\n",
        "        return len(self.samples)\n",
        "\n",
        "    def __getitem__(self, idx):\n",
        "        row = self.samples.iloc[idx]\n",
        "        file = row['file_name']\n",
        "        label = 0 if row['label'] == 'truth' else 1\n",
        "\n",
        "        frame_path = os.path.join(frames_path, self.split, row['label'], file, \"frame_0000.jpg\")\n",
        "        spec_path = os.path.join(specs_path, self.split, row['label'], f\"{file}.png\")\n",
        "\n",
        "        frame = Image.open(frame_path).convert('RGB')\n",
        "        spec = Image.open(spec_path).convert('RGB')\n",
        "\n",
        "        if self.transform:\n",
        "            frame = self.transform(frame)\n",
        "            spec = self.transform(spec)\n",
        "\n",
        "        return frame, spec, label\n",
        "\n",
        "# ===============================\n",
        "# 🔄 Transforms and DataLoaders\n",
        "# ===============================\n",
        "transform = transforms.Compose([\n",
        "    transforms.Resize((IMG_SIZE, IMG_SIZE)),\n",
        "    transforms.ToTensor(),\n",
        "    transforms.Normalize([0.485, 0.456, 0.406], [0.229, 0.224, 0.225])\n",
        "])\n",
        "\n",
        "train_ds = FusionDataset(split_df, split='train', transform=transform)\n",
        "val_ds = FusionDataset(split_df, split='val', transform=transform)\n",
        "train_dl = DataLoader(train_ds, batch_size=BATCH_SIZE, shuffle=True)\n",
        "val_dl = DataLoader(val_ds, batch_size=BATCH_SIZE)\n",
        "\n",
        "# ===============================\n",
        "# 🧠 Vision Branch (ResNet18)\n",
        "# ===============================\n",
        "vision_model = models.resnet18(pretrained=True)\n",
        "vision_model.fc = nn.Identity()\n",
        "vision_model = vision_model.to(device)\n",
        "\n",
        "# ===============================\n",
        "# 🎧 Audio Branch (ResNet18)\n",
        "# ===============================\n",
        "audio_model = models.resnet18(pretrained=True)\n",
        "audio_model.fc = nn.Identity()\n",
        "audio_model = audio_model.to(device)\n",
        "\n",
        "# ===============================\n",
        "# 🔥 Fusion Classifier\n",
        "# ===============================\n",
        "class FusionNet(nn.Module):\n",
        "    def __init__(self, vision_model, audio_model):\n",
        "        super(FusionNet, self).__init__()\n",
        "        self.vision_model = vision_model\n",
        "        self.audio_model = audio_model\n",
        "        self.fc1 = nn.Linear(512*2, 256)\n",
        "        self.relu = nn.ReLU()\n",
        "        self.fc2 = nn.Linear(256, 2)\n",
        "\n",
        "    def forward(self, frame, spec):\n",
        "        v_feat = self.vision_model(frame)\n",
        "        a_feat = self.audio_model(spec)\n",
        "        combined = torch.cat((v_feat, a_feat), dim=1)\n",
        "        x = self.fc1(combined)\n",
        "        x = self.relu(x)\n",
        "        x = self.fc2(x)\n",
        "        return x\n",
        "\n",
        "model = FusionNet(vision_model, audio_model).to(device)\n",
        "\n",
        "criterion = nn.CrossEntropyLoss()\n",
        "optimizer = optim.Adam(model.parameters(), lr=1e-4)\n",
        "\n",
        "# ===============================\n",
        "# 🚂 Training Loop\n",
        "# ===============================\n",
        "def train_epoch():\n",
        "    model.train()\n",
        "    running_loss, correct = 0.0, 0\n",
        "    for frame, spec, labels in tqdm(train_dl):\n",
        "        frame, spec, labels = frame.to(device), spec.to(device), labels.to(device)\n",
        "        optimizer.zero_grad()\n",
        "        outputs = model(frame, spec)\n",
        "        loss = criterion(outputs, labels)\n",
        "        loss.backward()\n",
        "        optimizer.step()\n",
        "        running_loss += loss.item() * frame.size(0)\n",
        "        correct += (outputs.argmax(1) == labels).sum().item()\n",
        "    return running_loss / len(train_dl.dataset), correct / len(train_dl.dataset)\n",
        "\n",
        "# ===============================\n",
        "# 🧪 Validation Loop\n",
        "# ===============================\n",
        "def validate():\n",
        "    model.eval()\n",
        "    val_loss, correct = 0.0, 0\n",
        "    with torch.no_grad():\n",
        "        for frame, spec, labels in val_dl:\n",
        "            frame, spec, labels = frame.to(device), spec.to(device), labels.to(device)\n",
        "            outputs = model(frame, spec)\n",
        "            loss = criterion(outputs, labels)\n",
        "            val_loss += loss.item() * frame.size(0)\n",
        "            correct += (outputs.argmax(1) == labels).sum().item()\n",
        "    return val_loss / len(val_dl.dataset), correct / len(val_dl.dataset)\n",
        "\n",
        "# ===============================\n",
        "# 🔁 Training\n",
        "# ===============================\n",
        "for epoch in range(EPOCHS):\n",
        "    train_loss, train_acc = train_epoch()\n",
        "    val_loss, val_acc = validate()\n",
        "    print(f\"\\nEpoch {epoch+1}/{EPOCHS}:\")\n",
        "    print(f\"Train Loss: {train_loss:.4f}, Train Acc: {train_acc:.4f}\")\n",
        "    print(f\"Val   Loss: {val_loss:.4f}, Val   Acc: {val_acc:.4f}\")\n",
        "\n",
        "print(\"\\n✅ Training complete. Multimodal fusion model ready!\")"
      ]
    },
    {
      "cell_type": "code",
      "execution_count": null,
      "metadata": {
        "colab": {
          "base_uri": "https://localhost:8080/"
        },
        "id": "t3G1rMPcvpMh",
        "outputId": "aa3a77c2-d473-493a-f971-3249b4fe72e2"
      },
      "outputs": [
        {
          "name": "stderr",
          "output_type": "stream",
          "text": [
            "/usr/local/lib/python3.11/dist-packages/torchvision/models/_utils.py:208: UserWarning: The parameter 'pretrained' is deprecated since 0.13 and may be removed in the future, please use 'weights' instead.\n",
            "  warnings.warn(\n",
            "/usr/local/lib/python3.11/dist-packages/torchvision/models/_utils.py:223: UserWarning: Arguments other than a weight enum or `None` for 'weights' are deprecated since 0.13 and may be removed in the future. The current behavior is equivalent to passing `weights=ResNet18_Weights.IMAGENET1K_V1`. You can also use `weights=ResNet18_Weights.DEFAULT` to get the most up-to-date weights.\n",
            "  warnings.warn(msg)\n",
            "100%|██████████| 32/32 [09:37<00:00, 18.06s/it]\n"
          ]
        },
        {
          "name": "stdout",
          "output_type": "stream",
          "text": [
            "\n",
            "Epoch 1/10:\n",
            "Train Loss: 0.6881, Train Acc: 0.5494\n",
            "Val   Loss: 0.6591, Val   Acc: 0.5953\n"
          ]
        },
        {
          "name": "stderr",
          "output_type": "stream",
          "text": [
            "100%|██████████| 32/32 [09:37<00:00, 18.06s/it]\n"
          ]
        },
        {
          "name": "stdout",
          "output_type": "stream",
          "text": [
            "\n",
            "Epoch 2/10:\n",
            "Train Loss: 0.5005, Train Acc: 0.7667\n",
            "Val   Loss: 0.6823, Val   Acc: 0.6047\n"
          ]
        },
        {
          "name": "stderr",
          "output_type": "stream",
          "text": [
            "100%|██████████| 32/32 [09:39<00:00, 18.11s/it]\n"
          ]
        },
        {
          "name": "stdout",
          "output_type": "stream",
          "text": [
            "\n",
            "Epoch 3/10:\n",
            "Train Loss: 0.3138, Train Acc: 0.8804\n",
            "Val   Loss: 0.8750, Val   Acc: 0.6093\n"
          ]
        },
        {
          "name": "stderr",
          "output_type": "stream",
          "text": [
            "100%|██████████| 32/32 [09:38<00:00, 18.08s/it]\n"
          ]
        },
        {
          "name": "stdout",
          "output_type": "stream",
          "text": [
            "\n",
            "Epoch 4/10:\n",
            "Train Loss: 0.2016, Train Acc: 0.9153\n",
            "Val   Loss: 0.9260, Val   Acc: 0.6000\n"
          ]
        },
        {
          "name": "stderr",
          "output_type": "stream",
          "text": [
            "100%|██████████| 32/32 [09:37<00:00, 18.05s/it]\n"
          ]
        },
        {
          "name": "stdout",
          "output_type": "stream",
          "text": [
            "\n",
            "Epoch 5/10:\n",
            "Train Loss: 0.1338, Train Acc: 0.9472\n",
            "Val   Loss: 0.9502, Val   Acc: 0.6372\n"
          ]
        },
        {
          "name": "stderr",
          "output_type": "stream",
          "text": [
            "100%|██████████| 32/32 [09:41<00:00, 18.17s/it]\n"
          ]
        },
        {
          "name": "stdout",
          "output_type": "stream",
          "text": [
            "\n",
            "Epoch 6/10:\n",
            "Train Loss: 0.1296, Train Acc: 0.9511\n",
            "Val   Loss: 1.0885, Val   Acc: 0.6233\n"
          ]
        },
        {
          "name": "stderr",
          "output_type": "stream",
          "text": [
            "100%|██████████| 32/32 [09:41<00:00, 18.17s/it]\n"
          ]
        },
        {
          "name": "stdout",
          "output_type": "stream",
          "text": [
            "\n",
            "Epoch 7/10:\n",
            "Train Loss: 0.0733, Train Acc: 0.9741\n",
            "Val   Loss: 1.0230, Val   Acc: 0.6605\n"
          ]
        },
        {
          "name": "stderr",
          "output_type": "stream",
          "text": [
            "100%|██████████| 32/32 [09:35<00:00, 17.99s/it]\n"
          ]
        },
        {
          "name": "stdout",
          "output_type": "stream",
          "text": [
            "\n",
            "Epoch 8/10:\n",
            "Train Loss: 0.0505, Train Acc: 0.9831\n",
            "Val   Loss: 1.0849, Val   Acc: 0.6419\n"
          ]
        },
        {
          "name": "stderr",
          "output_type": "stream",
          "text": [
            "100%|██████████| 32/32 [09:41<00:00, 18.17s/it]\n"
          ]
        },
        {
          "name": "stdout",
          "output_type": "stream",
          "text": [
            "\n",
            "Epoch 9/10:\n",
            "Train Loss: 0.0653, Train Acc: 0.9771\n",
            "Val   Loss: 1.2111, Val   Acc: 0.6326\n"
          ]
        },
        {
          "name": "stderr",
          "output_type": "stream",
          "text": [
            "100%|██████████| 32/32 [09:40<00:00, 18.14s/it]\n"
          ]
        },
        {
          "name": "stdout",
          "output_type": "stream",
          "text": [
            "\n",
            "Epoch 10/10:\n",
            "Train Loss: 0.0926, Train Acc: 0.9591\n",
            "Val   Loss: 1.3183, Val   Acc: 0.6279\n",
            "\n",
            "✅ Training complete. Multimodal fusion model ready!\n"
          ]
        }
      ],
      "source": [
        "# 🔥 Multimodal Fusion Model: Combine Vision (Frames) + Audio (Spectrograms) with Data Augmentation\n",
        "\n",
        "import os\n",
        "import torch\n",
        "import torch.nn as nn\n",
        "import torch.optim as optim\n",
        "from torch.utils.data import Dataset, DataLoader\n",
        "from torchvision import transforms, models\n",
        "from PIL import Image\n",
        "import pandas as pd\n",
        "from tqdm import tqdm\n",
        "\n",
        "# ===============================\n",
        "# 📂 Paths and Parameters\n",
        "# ===============================\n",
        "base_path = \"/content/drive/MyDrive/DOLOS_Project\"\n",
        "frames_path = os.path.join(base_path, \"frames\")\n",
        "specs_path = os.path.join(base_path, \"spectrograms\")\n",
        "split_df = pd.read_csv(os.path.join(base_path, \"split_clips.csv\"))\n",
        "device = torch.device(\"cuda\" if torch.cuda.is_available() else \"cpu\")\n",
        "\n",
        "IMG_SIZE = 224\n",
        "BATCH_SIZE = 32\n",
        "EPOCHS = 10\n",
        "\n",
        "# ===============================\n",
        "# 📦 Custom Dataset for Fusion\n",
        "# ===============================\n",
        "class FusionDataset(Dataset):\n",
        "    def __init__(self, df, split, transform=None):\n",
        "        self.samples = df[df['split'] == split].reset_index(drop=True)\n",
        "        self.split = split\n",
        "        self.transform = transform\n",
        "\n",
        "    def __len__(self):\n",
        "        return len(self.samples)\n",
        "\n",
        "    def __getitem__(self, idx):\n",
        "        row = self.samples.iloc[idx]\n",
        "        file = row['file_name']\n",
        "        label = 0 if row['label'] == 'truth' else 1\n",
        "\n",
        "        frame_path = os.path.join(frames_path, self.split, row['label'], file, \"frame_0000.jpg\")\n",
        "        spec_path = os.path.join(specs_path, self.split, row['label'], f\"{file}.png\")\n",
        "\n",
        "        frame = Image.open(frame_path).convert('RGB')\n",
        "        spec = Image.open(spec_path).convert('RGB')\n",
        "\n",
        "        if self.transform:\n",
        "            frame = self.transform(frame)\n",
        "            spec = self.transform(spec)\n",
        "\n",
        "        return frame, spec, label\n",
        "\n",
        "# ===============================\n",
        "# 🔄 Transforms and DataLoaders (with Augmentation)\n",
        "# ===============================\n",
        "train_transform = transforms.Compose([\n",
        "    transforms.Resize((IMG_SIZE, IMG_SIZE)),\n",
        "    transforms.RandomHorizontalFlip(p=0.5),\n",
        "    transforms.ColorJitter(brightness=0.2, contrast=0.2),\n",
        "    transforms.ToTensor(),\n",
        "    transforms.Normalize([0.485, 0.456, 0.406], [0.229, 0.224, 0.225])\n",
        "])\n",
        "\n",
        "val_transform = transforms.Compose([\n",
        "    transforms.Resize((IMG_SIZE, IMG_SIZE)),\n",
        "    transforms.ToTensor(),\n",
        "    transforms.Normalize([0.485, 0.456, 0.406], [0.229, 0.224, 0.225])\n",
        "])\n",
        "\n",
        "train_ds = FusionDataset(split_df, split='train', transform=train_transform)\n",
        "val_ds = FusionDataset(split_df, split='val', transform=val_transform)\n",
        "train_dl = DataLoader(train_ds, batch_size=BATCH_SIZE, shuffle=True)\n",
        "val_dl = DataLoader(val_ds, batch_size=BATCH_SIZE)\n",
        "\n",
        "# ===============================\n",
        "# 🧠 Vision Branch (ResNet18)\n",
        "# ===============================\n",
        "vision_model = models.resnet18(pretrained=True)\n",
        "vision_model.fc = nn.Identity()\n",
        "vision_model = vision_model.to(device)\n",
        "\n",
        "# ===============================\n",
        "# 🎧 Audio Branch (ResNet18)\n",
        "# ===============================\n",
        "audio_model = models.resnet18(pretrained=True)\n",
        "audio_model.fc = nn.Identity()\n",
        "audio_model = audio_model.to(device)\n",
        "\n",
        "# ===============================\n",
        "# 🔥 Fusion Classifier\n",
        "# ===============================\n",
        "class FusionNet(nn.Module):\n",
        "    def __init__(self, vision_model, audio_model):\n",
        "        super(FusionNet, self).__init__()\n",
        "        self.vision_model = vision_model\n",
        "        self.audio_model = audio_model\n",
        "        self.fc1 = nn.Linear(512*2, 256)\n",
        "        self.relu = nn.ReLU()\n",
        "        self.fc2 = nn.Linear(256, 2)\n",
        "\n",
        "    def forward(self, frame, spec):\n",
        "        v_feat = self.vision_model(frame)\n",
        "        a_feat = self.audio_model(spec)\n",
        "        combined = torch.cat((v_feat, a_feat), dim=1)\n",
        "        x = self.fc1(combined)\n",
        "        x = self.relu(x)\n",
        "        x = self.fc2(x)\n",
        "        return x\n",
        "\n",
        "model = FusionNet(vision_model, audio_model).to(device)\n",
        "\n",
        "criterion = nn.CrossEntropyLoss()\n",
        "optimizer = optim.Adam(model.parameters(), lr=1e-4)\n",
        "\n",
        "# ===============================\n",
        "# 🚂 Training Loop\n",
        "# ===============================\n",
        "def train_epoch():\n",
        "    model.train()\n",
        "    running_loss, correct = 0.0, 0\n",
        "    for frame, spec, labels in tqdm(train_dl):\n",
        "        frame, spec, labels = frame.to(device), spec.to(device), labels.to(device)\n",
        "        optimizer.zero_grad()\n",
        "        outputs = model(frame, spec)\n",
        "        loss = criterion(outputs, labels)\n",
        "        loss.backward()\n",
        "        optimizer.step()\n",
        "        running_loss += loss.item() * frame.size(0)\n",
        "        correct += (outputs.argmax(1) == labels).sum().item()\n",
        "    return running_loss / len(train_dl.dataset), correct / len(train_dl.dataset)\n",
        "\n",
        "# ===============================\n",
        "# 🧪 Validation Loop\n",
        "# ===============================\n",
        "def validate():\n",
        "    model.eval()\n",
        "    val_loss, correct = 0.0, 0\n",
        "    with torch.no_grad():\n",
        "        for frame, spec, labels in val_dl:\n",
        "            frame, spec, labels = frame.to(device), spec.to(device), labels.to(device)\n",
        "            outputs = model(frame, spec)\n",
        "            loss = criterion(outputs, labels)\n",
        "            val_loss += loss.item() * frame.size(0)\n",
        "            correct += (outputs.argmax(1) == labels).sum().item()\n",
        "    return val_loss / len(val_dl.dataset), correct / len(val_dl.dataset)\n",
        "\n",
        "# ===============================\n",
        "# 🔁 Training\n",
        "# ===============================\n",
        "for epoch in range(EPOCHS):\n",
        "    train_loss, train_acc = train_epoch()\n",
        "    val_loss, val_acc = validate()\n",
        "    print(f\"\\nEpoch {epoch+1}/{EPOCHS}:\")\n",
        "    print(f\"Train Loss: {train_loss:.4f}, Train Acc: {train_acc:.4f}\")\n",
        "    print(f\"Val   Loss: {val_loss:.4f}, Val   Acc: {val_acc:.4f}\")\n",
        "\n",
        "print(\"\\n✅ Training complete. Multimodal fusion model ready!\")"
      ]
    },
    {
      "cell_type": "code",
      "execution_count": null,
      "metadata": {
        "id": "AG5WhOON2fLG"
      },
      "outputs": [],
      "source": [
        "import torch"
      ]
    },
    {
      "cell_type": "code",
      "execution_count": null,
      "metadata": {
        "colab": {
          "base_uri": "https://localhost:8080/"
        },
        "id": "4GqVArrsVn-y",
        "outputId": "ccd7b34d-d33b-492a-b537-0462c768358c"
      },
      "outputs": [
        {
          "name": "stdout",
          "output_type": "stream",
          "text": [
            " Model saved at /content/drive/MyDrive/DOLOS_Project/fusion_model.pth\n"
          ]
        }
      ],
      "source": [
        "# Save the fusion model\n",
        "save_path = \"/content/drive/MyDrive/DOLOS_Project/fusion_model.pth\"\n",
        "torch.save(model.state_dict(), save_path)\n",
        "print(f\" Model saved at {save_path}\")"
      ]
    },
    {
      "cell_type": "code",
      "execution_count": null,
      "metadata": {
        "colab": {
          "base_uri": "https://localhost:8080/",
          "height": 576
        },
        "id": "9RTjHt3itI5A",
        "outputId": "0d75c994-6cfb-4b6c-c7f6-219ba9a064a2"
      },
      "outputs": [
        {
          "name": "stderr",
          "output_type": "stream",
          "text": [
            "/usr/local/lib/python3.11/dist-packages/torchvision/models/_utils.py:208: UserWarning: The parameter 'pretrained' is deprecated since 0.13 and may be removed in the future, please use 'weights' instead.\n",
            "  warnings.warn(\n",
            "/usr/local/lib/python3.11/dist-packages/torchvision/models/_utils.py:223: UserWarning: Arguments other than a weight enum or `None` for 'weights' are deprecated since 0.13 and may be removed in the future. The current behavior is equivalent to passing `weights=ResNet18_Weights.IMAGENET1K_V1`. You can also use `weights=ResNet18_Weights.DEFAULT` to get the most up-to-date weights.\n",
            "  warnings.warn(msg)\n"
          ]
        },
        {
          "data": {
            "image/png": "[encoded data removed]",
            "text/plain": [
              "<Figure size 600x500 with 2 Axes>"
            ]
          },
          "metadata": {},
          "output_type": "display_data"
        }
      ],
      "source": [
        "# 📂 Import required libraries\n",
        "import torch\n",
        "import torch.nn as nn\n",
        "import matplotlib.pyplot as plt\n",
        "import seaborn as sns\n",
        "from sklearn.metrics import confusion_matrix, ConfusionMatrixDisplay\n",
        "import numpy as np\n",
        "\n",
        "# 📂 Define paths\n",
        "save_path = \"/content/drive/MyDrive/DOLOS_Project/fusion_model.pth\"\n",
        "\n",
        "# 🧠 Reload Fusion Model\n",
        "vision_model = models.resnet18(pretrained=True)\n",
        "vision_model.fc = nn.Identity()\n",
        "audio_model = models.resnet18(pretrained=True)\n",
        "audio_model.fc = nn.Identity()\n",
        "\n",
        "model = FusionNet(vision_model, audio_model).to(device)\n",
        "model.load_state_dict(torch.load(save_path))\n",
        "model.eval()\n",
        "\n",
        "# 🎯 Evaluate and collect predictions\n",
        "true_labels = []\n",
        "pred_labels = []\n",
        "\n",
        "with torch.no_grad():\n",
        "    for frame, spec, labels in val_dl:\n",
        "        frame, spec, labels = frame.to(device), spec.to(device), labels.to(device)\n",
        "        outputs = model(frame, spec)\n",
        "        preds = outputs.argmax(1)\n",
        "        true_labels.extend(labels.cpu().numpy())\n",
        "        pred_labels.extend(preds.cpu().numpy())\n",
        "\n",
        "# 🧮 Compute Confusion Matrix\n",
        "cm = confusion_matrix(true_labels, pred_labels)\n",
        "labels = ['Truth', 'Deception']\n",
        "\n",
        "# 🎨 Plot Confusion Matrix\n",
        "plt.figure(figsize=(6,5))\n",
        "sns.heatmap(cm, annot=True, fmt='d', cmap='Blues', xticklabels=labels, yticklabels=labels)\n",
        "plt.xlabel('Predicted')\n",
        "plt.ylabel('Actual')\n",
        "plt.title('Confusion Matrix - Fusion Model')\n",
        "plt.show()\n"
      ]
    },
    {
      "cell_type": "code",
      "execution_count": null,
      "metadata": {
        "id": "MBkKo4YyUY07"
      },
      "outputs": [],
      "source": [
        "import cv2\n",
        "import os\n",
        "import numpy as np\n",
        "\n",
        "# 📂 Input clips folder\n",
        "clips_path = \"/content/drive/MyDrive/DOLOS_Project/clips\"\n",
        "\n",
        "# 📂 Output frames folder\n",
        "frames_path = \"/content/drive/MyDrive/DOLOS_Project/frames\"\n",
        "os.makedirs(frames_path, exist_ok=True)\n",
        "\n",
        "NUM_FRAMES = 5\n",
        "\n",
        "# Process truth and deception\n",
        "for label in ['truth', 'deception']:\n",
        "    clip_folder = os.path.join(clips_path, label)\n",
        "    output_label_folder = os.path.join(frames_path, label)\n",
        "    os.makedirs(output_label_folder, exist_ok=True)\n",
        "\n",
        "    for clip_file in os.listdir(clip_folder):\n",
        "        if not clip_file.endswith('.mp4'):\n",
        "            continue\n",
        "\n",
        "        clip_name = os.path.splitext(clip_file)[0]\n",
        "        clip_path = os.path.join(clip_folder, clip_file)\n",
        "\n",
        "        output_clip_folder = os.path.join(output_label_folder, clip_name)\n",
        "        os.makedirs(output_clip_folder, exist_ok=True)\n",
        "\n",
        "        cap = cv2.VideoCapture(clip_path)\n",
        "        total_frames = int(cap.get(cv2.CAP_PROP_FRAME_COUNT))\n",
        "        selected_frames = np.linspace(0, total_frames-1, NUM_FRAMES).astype(int)\n",
        "\n",
        "        frame_idx = 0\n",
        "        success = True\n",
        "        while success:\n",
        "            success, frame = cap.read()\n",
        "            if frame_idx in selected_frames and success:\n",
        "                save_path = os.path.join(output_clip_folder, f\"frame_{selected_frames.tolist().index(frame_idx):04d}.jpg\")\n",
        "                cv2.imwrite(save_path, frame)\n",
        "            frame_idx += 1\n",
        "        cap.release()\n",
        "\n",
        "print(\"✅ Frame extraction from DOLOS clips complete!\")"
      ]
    },
    {
      "cell_type": "code",
      "execution_count": null,
      "metadata": {
        "colab": {
          "background_save": true,
          "base_uri": "https://localhost:8080/"
        },
        "id": "KhnMLVGMNA_b",
        "outputId": "c8d98145-b89b-49dc-ca93-2f7454f96378"
      },
      "outputs": [
        {
          "name": "stderr",
          "output_type": "stream",
          "text": [
            "/usr/local/lib/python3.11/dist-packages/torchvision/models/_utils.py:208: UserWarning: The parameter 'pretrained' is deprecated since 0.13 and may be removed in the future, please use 'weights' instead.\n",
            "  warnings.warn(\n",
            "/usr/local/lib/python3.11/dist-packages/torchvision/models/_utils.py:223: UserWarning: Arguments other than a weight enum or `None` for 'weights' are deprecated since 0.13 and may be removed in the future. The current behavior is equivalent to passing `weights=ResNet18_Weights.IMAGENET1K_V1`. You can also use `weights=ResNet18_Weights.DEFAULT` to get the most up-to-date weights.\n",
            "  warnings.warn(msg)\n",
            "100%|██████████| 63/63 [43:49<00:00, 41.74s/it]\n"
          ]
        },
        {
          "name": "stdout",
          "output_type": "stream",
          "text": [
            "\n",
            "Epoch 1/10:\n",
            "Train Loss: 0.6811, Train Acc: 0.5603\n",
            "Val   Loss: 0.6351, Val   Acc: 0.6233\n"
          ]
        },
        {
          "name": "stderr",
          "output_type": "stream",
          "text": [
            "100%|██████████| 63/63 [00:52<00:00,  1.20it/s]\n"
          ]
        },
        {
          "name": "stdout",
          "output_type": "stream",
          "text": [
            "\n",
            "Epoch 2/10:\n",
            "Train Loss: 0.5030, Train Acc: 0.7537\n",
            "Val   Loss: 0.6699, Val   Acc: 0.6605\n"
          ]
        },
        {
          "name": "stderr",
          "output_type": "stream",
          "text": [
            "100%|██████████| 63/63 [00:53<00:00,  1.19it/s]\n"
          ]
        },
        {
          "name": "stdout",
          "output_type": "stream",
          "text": [
            "\n",
            "Epoch 3/10:\n",
            "Train Loss: 0.3108, Train Acc: 0.8674\n",
            "Val   Loss: 0.8291, Val   Acc: 0.6605\n"
          ]
        },
        {
          "name": "stderr",
          "output_type": "stream",
          "text": [
            "100%|██████████| 63/63 [00:53<00:00,  1.18it/s]\n"
          ]
        },
        {
          "name": "stdout",
          "output_type": "stream",
          "text": [
            "\n",
            "Epoch 4/10:\n",
            "Train Loss: 0.2374, Train Acc: 0.9033\n",
            "Val   Loss: 0.8098, Val   Acc: 0.6791\n"
          ]
        },
        {
          "name": "stderr",
          "output_type": "stream",
          "text": [
            "100%|██████████| 63/63 [00:52<00:00,  1.21it/s]\n"
          ]
        },
        {
          "name": "stdout",
          "output_type": "stream",
          "text": [
            "\n",
            "Epoch 5/10:\n",
            "Train Loss: 0.1707, Train Acc: 0.9322\n",
            "Val   Loss: 0.9259, Val   Acc: 0.6465\n"
          ]
        },
        {
          "name": "stderr",
          "output_type": "stream",
          "text": [
            "100%|██████████| 63/63 [00:52<00:00,  1.20it/s]\n"
          ]
        },
        {
          "name": "stdout",
          "output_type": "stream",
          "text": [
            "\n",
            "Epoch 6/10:\n",
            "Train Loss: 0.1475, Train Acc: 0.9402\n",
            "Val   Loss: 0.7393, Val   Acc: 0.7163\n"
          ]
        },
        {
          "name": "stderr",
          "output_type": "stream",
          "text": [
            "100%|██████████| 63/63 [00:52<00:00,  1.21it/s]\n"
          ]
        },
        {
          "name": "stdout",
          "output_type": "stream",
          "text": [
            "\n",
            "Epoch 7/10:\n",
            "Train Loss: 0.0940, Train Acc: 0.9701\n",
            "Val   Loss: 0.7902, Val   Acc: 0.7116\n"
          ]
        },
        {
          "name": "stderr",
          "output_type": "stream",
          "text": [
            "100%|██████████| 63/63 [00:52<00:00,  1.20it/s]\n"
          ]
        },
        {
          "name": "stdout",
          "output_type": "stream",
          "text": [
            "\n",
            "Epoch 8/10:\n",
            "Train Loss: 0.1221, Train Acc: 0.9581\n",
            "Val   Loss: 0.9036, Val   Acc: 0.7116\n"
          ]
        },
        {
          "name": "stderr",
          "output_type": "stream",
          "text": [
            "100%|██████████| 63/63 [00:52<00:00,  1.20it/s]\n"
          ]
        },
        {
          "name": "stdout",
          "output_type": "stream",
          "text": [
            "\n",
            "Epoch 9/10:\n",
            "Train Loss: 0.0907, Train Acc: 0.9671\n",
            "Val   Loss: 1.0943, Val   Acc: 0.7070\n"
          ]
        },
        {
          "name": "stderr",
          "output_type": "stream",
          "text": [
            "100%|██████████| 63/63 [00:52<00:00,  1.19it/s]\n"
          ]
        },
        {
          "name": "stdout",
          "output_type": "stream",
          "text": [
            "\n",
            "Epoch 10/10:\n",
            "Train Loss: 0.0508, Train Acc: 0.9791\n",
            "Val   Loss: 0.8489, Val   Acc: 0.7256\n",
            "\n",
            " Training complete. Multimodal fusion LSTM model ready!\n"
          ]
        }
      ],
      "source": [
        "# 🔥 Multimodal Fusion Model with LSTM: Combine Vision (Frames Sequence) + Audio (Spectrograms)\n",
        "\n",
        "import os\n",
        "import torch\n",
        "import torch.nn as nn\n",
        "import torch.optim as optim\n",
        "from torch.utils.data import Dataset, DataLoader\n",
        "from torchvision import transforms, models\n",
        "from PIL import Image\n",
        "import pandas as pd\n",
        "from tqdm import tqdm\n",
        "\n",
        "# ===============================\n",
        "# 📂 Paths and Parameters\n",
        "# ===============================\n",
        "base_path = \"/content/drive/MyDrive/DOLOS_Project\"\n",
        "frames_path = os.path.join(base_path, \"frames\")\n",
        "specs_path = os.path.join(base_path, \"spectrograms\")\n",
        "split_df = pd.read_csv(os.path.join(base_path, \"split_clips.csv\"))\n",
        "device = torch.device(\"cuda\" if torch.cuda.is_available() else \"cpu\")\n",
        "\n",
        "IMG_SIZE = 224\n",
        "BATCH_SIZE = 16  # Smaller batch size because LSTM requires more memory\n",
        "EPOCHS = 10\n",
        "NUM_FRAMES = 5\n",
        "\n",
        "# ===============================\n",
        "# 📦 Custom Dataset for Fusion with Multiple Frames\n",
        "# ===============================\n",
        "class FusionDataset(Dataset):\n",
        "    def __init__(self, df, split, transform=None):\n",
        "        self.samples = df[df['split'] == split].reset_index(drop=True)\n",
        "        self.split = split\n",
        "        self.transform = transform\n",
        "\n",
        "    def __len__(self):\n",
        "        return len(self.samples)\n",
        "\n",
        "    def __getitem__(self, idx):\n",
        "        row = self.samples.iloc[idx]\n",
        "        file = row['file_name']\n",
        "        label = 0 if row['label'] == 'truth' else 1\n",
        "\n",
        "        frame_dir = os.path.join(frames_path, self.split, row['label'], file)\n",
        "        spec_path = os.path.join(specs_path, self.split, row['label'], f\"{file}.png\")\n",
        "\n",
        "        frames = []\n",
        "        for i in range(NUM_FRAMES):\n",
        "            frame_path = os.path.join(frame_dir, f\"frame_{i:04d}.jpg\")\n",
        "            if os.path.exists(frame_path):\n",
        "                frame = Image.open(frame_path).convert('RGB')\n",
        "            else:\n",
        "                # If missing, use a blank black image\n",
        "                frame = Image.new('RGB', (IMG_SIZE, IMG_SIZE), (0, 0, 0))\n",
        "\n",
        "            if self.transform:\n",
        "                frame = self.transform(frame)\n",
        "            frames.append(frame)\n",
        "        frames = torch.stack(frames)\n",
        "\n",
        "        spec = Image.open(spec_path).convert('RGB')\n",
        "        if self.transform:\n",
        "            spec = self.transform(spec)\n",
        "\n",
        "        return frames, spec, label\n",
        "# ===============================\n",
        "# 🔄 Transforms and DataLoaders (with Augmentation)\n",
        "# ===============================\n",
        "train_transform = transforms.Compose([\n",
        "    transforms.Resize((IMG_SIZE, IMG_SIZE)),\n",
        "    transforms.RandomHorizontalFlip(p=0.5),\n",
        "    transforms.ColorJitter(brightness=0.2, contrast=0.2),\n",
        "    transforms.ToTensor(),\n",
        "    transforms.Normalize([0.485, 0.456, 0.406], [0.229, 0.224, 0.225])\n",
        "])\n",
        "\n",
        "val_transform = transforms.Compose([\n",
        "    transforms.Resize((IMG_SIZE, IMG_SIZE)),\n",
        "    transforms.ToTensor(),\n",
        "    transforms.Normalize([0.485, 0.456, 0.406], [0.229, 0.224, 0.225])\n",
        "])\n",
        "\n",
        "train_ds = FusionDataset(split_df, split='train', transform=train_transform)\n",
        "val_ds = FusionDataset(split_df, split='val', transform=val_transform)\n",
        "train_dl = DataLoader(train_ds, batch_size=BATCH_SIZE, shuffle=True)\n",
        "val_dl = DataLoader(val_ds, batch_size=BATCH_SIZE)\n",
        "\n",
        "# ===============================\n",
        "#  Vision Branch (ResNet18 Feature Extractor)\n",
        "# ===============================\n",
        "vision_model = models.resnet18(pretrained=True)\n",
        "vision_model.fc = nn.Identity()\n",
        "vision_model = vision_model.to(device)\n",
        "\n",
        "# ===============================\n",
        "#  Audio Branch (ResNet18 Feature Extractor)\n",
        "# ===============================\n",
        "audio_model = models.resnet18(pretrained=True)\n",
        "audio_model.fc = nn.Identity()\n",
        "audio_model = audio_model.to(device)\n",
        "\n",
        "# ===============================\n",
        "#  Fusion Classifier with LSTM\n",
        "# ===============================\n",
        "class FusionLSTMNet(nn.Module):\n",
        "    def __init__(self, vision_model, audio_model, hidden_size=256, num_layers=1):\n",
        "        super(FusionLSTMNet, self).__init__()\n",
        "        self.vision_model = vision_model\n",
        "        self.audio_model = audio_model\n",
        "        self.lstm = nn.LSTM(input_size=512, hidden_size=hidden_size, num_layers=num_layers, batch_first=True)\n",
        "        self.fc1 = nn.Linear(hidden_size + 512, 256)\n",
        "        self.relu = nn.ReLU()\n",
        "        self.fc2 = nn.Linear(256, 2)\n",
        "\n",
        "    def forward(self, frames, spec):\n",
        "        batch_size, seq_len, c, h, w = frames.shape\n",
        "        frames = frames.view(batch_size * seq_len, c, h, w)\n",
        "        frame_features = self.vision_model(frames)\n",
        "        frame_features = frame_features.view(batch_size, seq_len, -1)\n",
        "\n",
        "        _, (hn, _) = self.lstm(frame_features)\n",
        "        lstm_output = hn[-1]\n",
        "\n",
        "        audio_features = self.audio_model(spec)\n",
        "\n",
        "        combined = torch.cat((lstm_output, audio_features), dim=1)\n",
        "        x = self.fc1(combined)\n",
        "        x = self.relu(x)\n",
        "        x = self.fc2(x)\n",
        "        return x\n",
        "\n",
        "model = FusionLSTMNet(vision_model, audio_model).to(device)\n",
        "\n",
        "criterion = nn.CrossEntropyLoss()\n",
        "optimizer = optim.Adam(model.parameters(), lr=1e-4)\n",
        "\n",
        "# ===============================\n",
        "# Training Loop\n",
        "# ===============================\n",
        "def train_epoch():\n",
        "    model.train()\n",
        "    running_loss, correct = 0.0, 0\n",
        "    for frames, specs, labels in tqdm(train_dl):\n",
        "        frames, specs, labels = frames.to(device), specs.to(device), labels.to(device)\n",
        "        optimizer.zero_grad()\n",
        "        outputs = model(frames, specs)\n",
        "        loss = criterion(outputs, labels)\n",
        "        loss.backward()\n",
        "        optimizer.step()\n",
        "        running_loss += loss.item() * frames.size(0)\n",
        "        correct += (outputs.argmax(1) == labels).sum().item()\n",
        "    return running_loss / len(train_dl.dataset), correct / len(train_dl.dataset)\n",
        "\n",
        "# ===============================\n",
        "# Validation Loop\n",
        "# ===============================\n",
        "def validate():\n",
        "    model.eval()\n",
        "    val_loss, correct = 0.0, 0\n",
        "    with torch.no_grad():\n",
        "        for frames, specs, labels in val_dl:\n",
        "            frames, specs, labels = frames.to(device), specs.to(device), labels.to(device)\n",
        "            outputs = model(frames, specs)\n",
        "            loss = criterion(outputs, labels)\n",
        "            val_loss += loss.item() * frames.size(0)\n",
        "            correct += (outputs.argmax(1) == labels).sum().item()\n",
        "    return val_loss / len(val_dl.dataset), correct / len(val_dl.dataset)\n",
        "\n",
        "# ===============================\n",
        "# Training\n",
        "# ===============================\n",
        "for epoch in range(EPOCHS):\n",
        "    train_loss, train_acc = train_epoch()\n",
        "    val_loss, val_acc = validate()\n",
        "    print(f\"\\nEpoch {epoch+1}/{EPOCHS}:\")\n",
        "    print(f\"Train Loss: {train_loss:.4f}, Train Acc: {train_acc:.4f}\")\n",
        "    print(f\"Val   Loss: {val_loss:.4f}, Val   Acc: {val_acc:.4f}\")\n",
        "\n",
        "print(\"\\n Training complete. Multimodal fusion LSTM model ready!\")"
      ]
    },
    {
      "cell_type": "code",
      "execution_count": null,
      "metadata": {
        "id": "OuXXx8OvaMAD"
      },
      "outputs": [],
      "source": []
    }
  ],
  "metadata": {
    "accelerator": "GPU",
    "colab": {
      "gpuType": "T4",
      "provenance": []
    },
    "kernelspec": {
      "display_name": "Python 3",
      "name": "python3"
    },
    "language_info": {
      "name": "python"
    }
  },
  "nbformat": 4,
  "nbformat_minor": 0
}